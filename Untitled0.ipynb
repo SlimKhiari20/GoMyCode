{
  "nbformat": 4,
  "nbformat_minor": 0,
  "metadata": {
    "colab": {
      "name": "Untitled0.ipynb",
      "provenance": [],
      "collapsed_sections": []
    },
    "kernelspec": {
      "name": "python3",
      "display_name": "Python 3"
    }
  },
  "cells": [
    {
      "cell_type": "code",
      "metadata": {
        "id": "jLSasaN36rTB",
        "colab_type": "code",
        "colab": {
          "base_uri": "https://localhost:8080/",
          "height": 1000
        },
        "outputId": "da7a1718-d34e-431a-9572-173678eff2e6"
      },
      "source": [
        "for x in range(2000, 3200):\n",
        "  if (x%7)==0 :\n",
        "  \n",
        "      print(x)\n",
        "  "
      ],
      "execution_count": 3,
      "outputs": [
        {
          "output_type": "stream",
          "text": [
            "2002\n",
            "2009\n",
            "2016\n",
            "2023\n",
            "2030\n",
            "2037\n",
            "2044\n",
            "2051\n",
            "2058\n",
            "2065\n",
            "2072\n",
            "2079\n",
            "2086\n",
            "2093\n",
            "2100\n",
            "2107\n",
            "2114\n",
            "2121\n",
            "2128\n",
            "2135\n",
            "2142\n",
            "2149\n",
            "2156\n",
            "2163\n",
            "2170\n",
            "2177\n",
            "2184\n",
            "2191\n",
            "2198\n",
            "2205\n",
            "2212\n",
            "2219\n",
            "2226\n",
            "2233\n",
            "2240\n",
            "2247\n",
            "2254\n",
            "2261\n",
            "2268\n",
            "2275\n",
            "2282\n",
            "2289\n",
            "2296\n",
            "2303\n",
            "2310\n",
            "2317\n",
            "2324\n",
            "2331\n",
            "2338\n",
            "2345\n",
            "2352\n",
            "2359\n",
            "2366\n",
            "2373\n",
            "2380\n",
            "2387\n",
            "2394\n",
            "2401\n",
            "2408\n",
            "2415\n",
            "2422\n",
            "2429\n",
            "2436\n",
            "2443\n",
            "2450\n",
            "2457\n",
            "2464\n",
            "2471\n",
            "2478\n",
            "2485\n",
            "2492\n",
            "2499\n",
            "2506\n",
            "2513\n",
            "2520\n",
            "2527\n",
            "2534\n",
            "2541\n",
            "2548\n",
            "2555\n",
            "2562\n",
            "2569\n",
            "2576\n",
            "2583\n",
            "2590\n",
            "2597\n",
            "2604\n",
            "2611\n",
            "2618\n",
            "2625\n",
            "2632\n",
            "2639\n",
            "2646\n",
            "2653\n",
            "2660\n",
            "2667\n",
            "2674\n",
            "2681\n",
            "2688\n",
            "2695\n",
            "2702\n",
            "2709\n",
            "2716\n",
            "2723\n",
            "2730\n",
            "2737\n",
            "2744\n",
            "2751\n",
            "2758\n",
            "2765\n",
            "2772\n",
            "2779\n",
            "2786\n",
            "2793\n",
            "2800\n",
            "2807\n",
            "2814\n",
            "2821\n",
            "2828\n",
            "2835\n",
            "2842\n",
            "2849\n",
            "2856\n",
            "2863\n",
            "2870\n",
            "2877\n",
            "2884\n",
            "2891\n",
            "2898\n",
            "2905\n",
            "2912\n",
            "2919\n",
            "2926\n",
            "2933\n",
            "2940\n",
            "2947\n",
            "2954\n",
            "2961\n",
            "2968\n",
            "2975\n",
            "2982\n",
            "2989\n",
            "2996\n",
            "3003\n",
            "3010\n",
            "3017\n",
            "3024\n",
            "3031\n",
            "3038\n",
            "3045\n",
            "3052\n",
            "3059\n",
            "3066\n",
            "3073\n",
            "3080\n",
            "3087\n",
            "3094\n",
            "3101\n",
            "3108\n",
            "3115\n",
            "3122\n",
            "3129\n",
            "3136\n",
            "3143\n",
            "3150\n",
            "3157\n",
            "3164\n",
            "3171\n",
            "3178\n",
            "3185\n",
            "3192\n",
            "3199\n"
          ],
          "name": "stdout"
        }
      ]
    },
    {
      "cell_type": "code",
      "metadata": {
        "id": "5lpoPb0j8Bn7",
        "colab_type": "code",
        "colab": {
          "base_uri": "https://localhost:8080/",
          "height": 67
        },
        "outputId": "eb37d2be-e29a-4f1b-9a5d-39ab896cb934"
      },
      "source": [
        "a=1\n",
        "\n",
        "print(\"Votre variable: \")\n",
        "x=input()\n",
        "x=int(x)\n",
        "\n",
        "for i in range(1, x):\n",
        "  a=a*i\n",
        "print(a)"
      ],
      "execution_count": 19,
      "outputs": [
        {
          "output_type": "stream",
          "text": [
            "Votre variable: \n",
            "8\n",
            "5040\n"
          ],
          "name": "stdout"
        }
      ]
    },
    {
      "cell_type": "code",
      "metadata": {
        "id": "WkoFcXCC9A1V",
        "colab_type": "code",
        "colab": {
          "base_uri": "https://localhost:8080/",
          "height": 67
        },
        "outputId": "06497228-a9ec-4381-ec3c-abc23202fdc0"
      },
      "source": [
        "print(\"n: \")\n",
        "n=input()\n",
        "n=int(n)\n",
        "\n",
        "dico = {\"1\":\"1\"}\n",
        "\n",
        "for i in range(2, n):\n",
        "  a=i*i\n",
        "  dico[i] = a\n",
        "\n",
        "print(dico)\n"
      ],
      "execution_count": 38,
      "outputs": [
        {
          "output_type": "stream",
          "text": [
            "n: \n",
            "10\n",
            "{'1': '1', 2: 4, 3: 9, 4: 16, 5: 25, 6: 36, 7: 49, 8: 64, 9: 81}\n"
          ],
          "name": "stdout"
        }
      ]
    },
    {
      "cell_type": "code",
      "metadata": {
        "id": "ujz_omaHHsjb",
        "colab_type": "code",
        "colab": {
          "base_uri": "https://localhost:8080/",
          "height": 84
        },
        "outputId": "fdb4980c-baf0-41d4-ee87-bfd37850d3a1"
      },
      "source": [
        "mot=input(\"Votre mot: \")\n",
        "print(mot)\n",
        "\n",
        "maliste =list(mot)\n",
        "\n",
        "indice=input(\"indice: \")\n",
        "indice=int(indice)\n",
        "\n",
        "del(maliste[indice])\n",
        "\n",
        "monmot=\"\".join(maliste)\n",
        "print(monmot)"
      ],
      "execution_count": 44,
      "outputs": [
        {
          "output_type": "stream",
          "text": [
            "Votre mot: slim0\n",
            "slim0\n",
            "indice: 0\n",
            "lim0\n"
          ],
          "name": "stdout"
        }
      ]
    },
    {
      "cell_type": "code",
      "metadata": {
        "id": "Ic-xF5ByLXwn",
        "colab_type": "code",
        "colab": {
          "base_uri": "https://localhost:8080/",
          "height": 84
        },
        "outputId": "dd67dde6-d006-4b29-ad6e-18abfc04ce56"
      },
      "source": [
        "import numpy as np\n",
        "b=np.array([[0,1],[2,3],[4,5]])\n",
        "b\n",
        "l=b.tolist()\n",
        "l"
      ],
      "execution_count": 3,
      "outputs": [
        {
          "output_type": "stream",
          "text": [
            "[[0 1]\n",
            " [2 3]\n",
            " [4 5]]\n"
          ],
          "name": "stdout"
        },
        {
          "output_type": "execute_result",
          "data": {
            "text/plain": [
              "[[0, 1], [2, 3], [4, 5]]"
            ]
          },
          "metadata": {
            "tags": []
          },
          "execution_count": 3
        }
      ]
    },
    {
      "cell_type": "code",
      "metadata": {
        "id": "4lINUfmeAsF7",
        "colab_type": "code",
        "colab": {
          "base_uri": "https://localhost:8080/",
          "height": 50
        },
        "outputId": "0da46d15-2a23-4cc4-8573-1a84b3ad350c"
      },
      "source": [
        "import numpy as np \n",
        "\n",
        "A=[0,1,2]\n",
        "B=[2,1,0]\n",
        "\n",
        "data=np.array([A,B])\n",
        "\n",
        "covmatrix=np.cov(data,bias=True)\n",
        "\n",
        "print(covmatrix)"
      ],
      "execution_count": 4,
      "outputs": [
        {
          "output_type": "stream",
          "text": [
            "[[ 0.66666667 -0.66666667]\n",
            " [-0.66666667  0.66666667]]\n"
          ],
          "name": "stdout"
        }
      ]
    },
    {
      "cell_type": "code",
      "metadata": {
        "id": "px_P_gdVCrw0",
        "colab_type": "code",
        "colab": {
          "base_uri": "https://localhost:8080/",
          "height": 34
        },
        "outputId": "93af3515-3fcf-409a-e137-7aded3978a8b"
      },
      "source": [
        "import numpy as np \n",
        "\n",
        "C=50\n",
        "H=30\n",
        "\n",
        "list=['100','150','180']\n",
        "listbis=[]\n",
        "\n",
        "for D in list:\n",
        "  a=(2*C*int(D))/H\n",
        "  Q=a**0.5\n",
        "  listbis.append(int(Q))\n",
        "\n",
        "print(listbis)"
      ],
      "execution_count": 49,
      "outputs": [
        {
          "output_type": "stream",
          "text": [
            "[18, 22, 24]\n"
          ],
          "name": "stdout"
        }
      ]
    },
    {
      "cell_type": "code",
      "metadata": {
        "id": "9402otSkKKWB",
        "colab_type": "code",
        "colab": {}
      },
      "source": [
        ""
      ],
      "execution_count": null,
      "outputs": []
    }
  ]
}